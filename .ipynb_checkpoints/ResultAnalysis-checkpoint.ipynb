{
 "cells": [
  {
   "cell_type": "markdown",
   "id": "605a5c7b-ac34-4973-b1cd-ea13c7147610",
   "metadata": {
    "jp-MarkdownHeadingCollapsed": true
   },
   "source": [
    "### 第一个算例\n",
    "\n",
    "* Gauss q = 2的算例： h = 0.015， vertices number为5284\n",
    "* perturb = uexact + CF(( sin(2*pi*x)*sin(2*pi*y), 0, 0 ))\n",
    "* 精确解，Dirichlet能量为 3.0088318978905484\n",
    "\n",
    "$$\n",
    "\\pi_{\\mathrm{st}}^{-1}(x)=\\left(|x|^2+1\\right)^{-1}\\left[\\begin{array}{c}\n",
    "2 x \\\\\n",
    "1-|x|^2\n",
    "\\end{array}\\right] .\n",
    "$$\n",
    "\n",
    "Perturbation: Dirichlet能量为：10.23891370061937\n",
    "\n",
    "仅第一个分量：\n",
    "\n",
    "$$\n",
    "\\sin(2*\\pi*x)*\\sin(2*\\pi*y)\n",
    "$$"
   ]
  },
  {
   "cell_type": "markdown",
   "id": "e5b20309-361a-49b1-9cdc-2e75f0516ee0",
   "metadata": {},
   "source": [
    "### 实验数据\n",
    "\n",
    "h = 0.015 and dofs = 5284\n",
    "tau = 6.0 and vari = 0.749959803203052\n",
    "Final N_iter is 5000\n",
    "Final eneryg is 3.4233834898438142\n",
    "\n",
    "h = 0.015 and dofs = 5284\n",
    "tau = 3.0 and vari = 0.3684111336154033\n",
    "Final N_iter is 4554\n",
    "Final eneryg is 2.3870462583249803\n",
    "\n",
    "### 经验：使用太大的tau不靠谱\n",
    "tau = 6.0 and vari = 0.02657563716034227\n",
    "Final N_iter is 60\n",
    "Final eneryg is 3.1197638279687134\n",
    "\n",
    "Energy of exact solution is 3.0088318978905484\n",
    "tau = 7.0 and vari = 0.010258188436496394\n",
    "Final N_iter is 53\n",
    "Final eneryg is 3.0482833111589946\n",
    "\n",
    "tau = 8.0 and vari = 0.0026470318769056637\n",
    "Final N_iter is 70\n",
    "Final eneryg is 3.0168390278909496\n",
    "\n",
    "tau = 9.0 and vari = 0.0005542593686531275\n",
    "Final N_iter is 136\n",
    "Final eneryg is 3.010236100812738\n",
    "\n",
    "tau = 10.0 and vari = 9.863510096279044e-05\n",
    "Final N_iter is 271\n",
    "Final eneryg is 3.0090777271865665\n",
    "\n",
    "tau = 11.0 and vari = 1.6900847376931428e-05\n",
    "Final N_iter is 541\n",
    "Final eneryg is 3.0088727132054314\n",
    "\n",
    "tau = 12.0 and vari = 2.883130001328924e-06\n",
    "Final N_iter is 1081\n",
    "Final eneryg is 3.008838794466002"
   ]
  },
  {
   "cell_type": "code",
   "execution_count": null,
   "id": "a9bbee18-80fa-496f-a3bd-04c39c88ba0e",
   "metadata": {},
   "outputs": [],
   "source": []
  },
  {
   "cell_type": "markdown",
   "id": "e31b5e21-fe3d-49da-80e2-d65996d374b9",
   "metadata": {
    "jp-MarkdownHeadingCollapsed": true
   },
   "source": [
    "### 第二个算例\n",
    "\n",
    "* Gauss q = 2的算例： h = 0.015， vertices number为5284\n",
    "* perturb = uexact + CF(( sin(2*pi*x)*sin(2*pi*y), sin(2*pi*x)*sin(2*pi*y), sin(2*pi*x)*sin(2*pi*y)))\n",
    "* 精确解，Dirichlet能量为 3.0088318978905484\n",
    "\n",
    "$$\n",
    "\\pi_{\\mathrm{st}}^{-1}(x)=\\left(|x|^2+1\\right)^{-1}\\left[\\begin{array}{c}\n",
    "2 x \\\\\n",
    "1-|x|^2\n",
    "\\end{array}\\right] .\n",
    "$$\n",
    "\n",
    "Perturbation: Dirichlet能量为：21.15250059226308\n",
    "\n",
    "仅第一个分量：\n",
    "\n",
    "$$\n",
    "\\sin(2*\\pi*x)*\\sin(2*\\pi*y)\n",
    "$$"
   ]
  }
 ],
 "metadata": {
  "kernelspec": {
   "display_name": "Python 3 (ipykernel)",
   "language": "python",
   "name": "python3"
  },
  "language_info": {
   "codemirror_mode": {
    "name": "ipython",
    "version": 3
   },
   "file_extension": ".py",
   "mimetype": "text/x-python",
   "name": "python",
   "nbconvert_exporter": "python",
   "pygments_lexer": "ipython3",
   "version": "3.8.10"
  }
 },
 "nbformat": 4,
 "nbformat_minor": 5
}
