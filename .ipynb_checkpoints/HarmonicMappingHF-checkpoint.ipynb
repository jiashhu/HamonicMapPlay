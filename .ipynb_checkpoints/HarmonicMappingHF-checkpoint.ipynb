{
 "cells": [
  {
   "cell_type": "code",
   "execution_count": 1,
   "id": "00083fea-38c6-4eab-a131-adc869629615",
   "metadata": {},
   "outputs": [],
   "source": [
    "from scipy.sparse import *\n",
    "import numpy as np\n",
    "\n",
    "def MyInv(Amat, Vec, FreeDofs:np.ndarray=None):\n",
    "    '''\n",
    "        # A is a ngsolve matrix，例如可以如下生成\n",
    "        A = la.SparseMatrixd.CreateFromCOO([0,1,2], [0,1,2], [1,2,3], 3, 3)\n",
    "        MyInv(A,BaseVector(np.array([1,2,3])),np.array([1,1,0],dtype=bool))\n",
    "        gfu.vec.data += BaseVector(MyInv(a.mat,res:BaseVector,np.array(X.FreeDofs())))\n",
    "        其中FreeDofs的dtype需要时bool才可以\n",
    "    '''\n",
    "    if FreeDofs is None:\n",
    "        FreeDofs = np.array(np.ones(Vec.FV().NumPy().shape),dtype=bool)\n",
    "    numFree = np.sum(FreeDofs)\n",
    "    A_data = list(Amat.COO())\n",
    "    \n",
    "    A_coo = coo_matrix((A_data[2].NumPy(),(np.array(A_data[0]),np.array(A_data[1]))),Amat.shape)\n",
    "    A_csr = A_coo.tocsr()\n",
    "    A_new_csr = A_csr[FreeDofs][:, FreeDofs]\n",
    "    b = Vec.FV().NumPy()[FreeDofs]\n",
    "    \n",
    "    # 使用spsolve求解Ax = b\n",
    "    x = linalg.spsolve(A_new_csr, b)\n",
    "    res = np.zeros(FreeDofs.shape)\n",
    "    res[FreeDofs] = x\n",
    "    return res"
   ]
  },
  {
   "cell_type": "code",
   "execution_count": 2,
   "id": "d309d9f1-f7f4-427e-b70c-3e39d4ee9f49",
   "metadata": {},
   "outputs": [],
   "source": [
    "from ngsolve import *"
   ]
  },
  {
   "cell_type": "markdown",
   "id": "31f9db2d-4df1-4b77-9fbe-b478cbf78021",
   "metadata": {},
   "source": [
    "Solving PDEs (vector valued) in tangential space\n",
    "$$\n",
    "\\left(\\dot{u}^{n i}, v_i\\right)_{\\star}+\\left(\\nabla u^n+\\tau \\sum_{i=1}^q a_{i j} \\nabla \\dot{u}^{n j}, \\nabla v_i\\right)=0\n",
    "$$"
   ]
  },
  {
   "cell_type": "markdown",
   "id": "a59e87e1-975f-4638-8520-a4baa0520cf1",
   "metadata": {},
   "source": [
    "方法：通过Lagrange乘子法求解无约束问题，用Lagrange乘子来设置正交性条件将本来的\n",
    "$$\n",
    "A u = b\n",
    "$$\n",
    "变成\n",
    "$$\n",
    "\\begin{pmatrix}\n",
    "A & R^T\\\\\n",
    "R & 0\n",
    "\\end{pmatrix}\n",
    "\\begin{pmatrix}\n",
    "u\\\\\n",
    "\\lambda\n",
    "\\end{pmatrix} = \n",
    "\\begin{pmatrix}\n",
    "b\\\\\n",
    "0\n",
    "\\end{pmatrix}\n",
    "$$\n",
    "\n",
    "用来描述具有切向限制的有限元空间。其中 $\\tilde u$ 属于标准有限元空间，例如平面上的三维有限元空间，具有所有的基函数，每个基函数的系数是一个三维的向量，表示对应vertice上的值。\n",
    "\n",
    "而R矩阵则对应于正交性条件，可以通过mass lumping将这个限制条件作用于每个节点上，这里 $\\hat u_h$ 已知，$\\tilde u$需要求解，$\\mu$是Lagrange乘子对应的对偶变量\n",
    "$$\n",
    "(\\hat u_h, \\tilde u \\mu)_h = 0\n",
    "$$"
   ]
  },
  {
   "cell_type": "code",
   "execution_count": 3,
   "id": "b58e9297-8c46-48e3-8164-8c5ce64ea247",
   "metadata": {},
   "outputs": [],
   "source": [
    "from netgen.meshing import Mesh, MeshPoint, Element1D, FaceDescriptor, Element0D, Element2D\n",
    "from netgen.csg import Pnt\n",
    "import numpy as np\n",
    "from netgen.geom2d import *"
   ]
  },
  {
   "cell_type": "code",
   "execution_count": 4,
   "id": "c0e10038-86fa-4738-9a07-a5e30ff344f3",
   "metadata": {},
   "outputs": [
    {
     "name": "stdout",
     "output_type": "stream",
     "text": [
      "optfile ./ng.opt does not exist - using default values\n",
      "togl-version : 2\n",
      "OCC module loaded\n",
      "loading ngsolve library\n",
      "NGSolve-6.2.2105\n",
      "Using Lapack\n",
      "Including sparse direct solver Pardiso\n",
      "Running parallel using 8 thread(s)\n"
     ]
    }
   ],
   "source": [
    "import netgen.gui"
   ]
  },
  {
   "cell_type": "markdown",
   "id": "e0eeb4ce-184d-48ce-bdc6-489cd8d19ecb",
   "metadata": {},
   "source": [
    "### 生成一个正方形网格"
   ]
  },
  {
   "cell_type": "code",
   "execution_count": 134,
   "id": "e8e2ea43-e173-44dd-bf7c-ed4cfef0cf64",
   "metadata": {},
   "outputs": [
    {
     "name": "stdout",
     "output_type": "stream",
     "text": [
      " Generate Mesh from spline geometry\n"
     ]
    }
   ],
   "source": [
    "L = 1/2\n",
    "h = 0.02\n",
    "periodic = SplineGeometry()\n",
    "pnts = [ (-L,-L), (L,-L), (L,L), (-L,L) ]\n",
    "pnums = [periodic.AppendPoint(*p) for p in pnts]\n",
    "\n",
    "ldown = periodic.Append ( [\"line\", pnums[0], pnums[1]],bc=\"outer\")\n",
    "lright = periodic.Append ( [\"line\", pnums[1], pnums[2]], bc=\"outer\")\n",
    "periodic.Append ( [\"line\", pnums[3], pnums[2]], leftdomain=0, rightdomain=1, bc=\"outer\")\n",
    "periodic.Append ( [\"line\", pnums[0], pnums[3]], leftdomain=0, rightdomain=1, bc=\"outer\")\n",
    "ngmesh = periodic.GenerateMesh(maxh=h)"
   ]
  },
  {
   "cell_type": "code",
   "execution_count": 135,
   "id": "5ab6463d-c8d9-4805-969f-9783f3157ad1",
   "metadata": {},
   "outputs": [],
   "source": [
    "from ngsolve import *\n",
    "mymesh = Mesh(ngmesh)"
   ]
  },
  {
   "cell_type": "markdown",
   "id": "65b3f95e-461a-4b50-902d-d00d5bb2e5a7",
   "metadata": {},
   "source": [
    "### 构造有限元空间-向量值空间以及标量值空间"
   ]
  },
  {
   "cell_type": "code",
   "execution_count": 136,
   "id": "c79e4616-655b-414b-9cbd-5344d91a2b76",
   "metadata": {},
   "outputs": [],
   "source": [
    "fesD = H1(mymesh, order = 1, dirichlet=mymesh.Boundaries(\".*\"))\n",
    "## mapping的解空间，映射到3维\n",
    "fesVD = fesD**3\n",
    "fes = H1(mymesh, order = 1)"
   ]
  },
  {
   "cell_type": "markdown",
   "id": "65946fd4-a31b-416e-ba05-6db29245d815",
   "metadata": {},
   "source": [
    "### 构造多个内点处dt的复合有限元空间\n",
    "\n",
    "* example: Gauss collocation, q = 2\n",
    "\n",
    "$$\n",
    "\\begin{array}{cc|c}\n",
    "\\frac{1}{4} & \\frac{1}{4}-\\frac{\\sqrt{3}}{6} & \\frac{1}{2}-\\frac{\\sqrt{3}}{6} \\\\\n",
    "\\frac{1}{4}+\\frac{\\sqrt{3}}{6} & \\frac{1}{4} & \\frac{1}{2}+\\frac{\\sqrt{3}}{6} \\\\\n",
    "\\hline \\frac{1}{2} & \\frac{1}{2} &\n",
    "\\end{array}\n",
    "$$\n",
    "Solving $\\dot{u}^{n i}$, i = 1,2\n",
    "$$\n",
    "\\left(\\dot{u}^{n i}, v_i\\right)+\\left(\\tau \\sum_{i=1}^q a_{i j} \\nabla \\dot{u}^{n j}, \\nabla v_i\\right)=\n",
    "-\\left(\\nabla u^n, \\nabla v_i\\right)\n",
    "$$"
   ]
  },
  {
   "cell_type": "markdown",
   "id": "16e3d836-bd78-4056-baf7-c14fe1416fb7",
   "metadata": {},
   "source": [
    "### 有限元函数\n",
    "* 每个内点对应一个有限元函数-d维向量值，因此这部分有d*n\\_collo个有限元函数\n",
    "* 讲这些测试函数分别标记为 u1, u2, 每个是一个3d的向量\n",
    "* Lagrange乘子对应一个有限元函数（没有Dirichlet边界条件）"
   ]
  },
  {
   "cell_type": "markdown",
   "id": "4a98c6f0-8f81-41ec-82ef-3aec9fc05233",
   "metadata": {},
   "source": [
    "### 有限元空间解释\n",
    "\n",
    "* fes_ALL = fesVD* fesVD* fes * fes\n",
    "\n",
    "中的测试函数U_N，分开写各个collocation point处的有限元函数。这样可以让 测试函数的每个分量具备向量形式\n",
    "尽可能不用 power 形式来写有限元空间。\n",
    "\n",
    "Lagrange multiplier需要是多个，因为这对应于在每个collocation 点上的正交性restriction"
   ]
  },
  {
   "cell_type": "code",
   "execution_count": 137,
   "id": "e8b58a4a-4376-4349-8573-697806981252",
   "metadata": {},
   "outputs": [],
   "source": [
    "ir = IntegrationRule(points = [(0,0), (1,0), (0,1)], weights = [1/6, 1/6, 1/6])\n",
    "dx_lumping = dx(intrules = { TRIG : ir })"
   ]
  },
  {
   "cell_type": "code",
   "execution_count": 138,
   "id": "29a02413-c051-4159-af47-caadf792044f",
   "metadata": {},
   "outputs": [],
   "source": [
    "n_collo = 2\n",
    "d = 3\n",
    "fes_ALL = fesVD*fesVD*fes*fes\n",
    "U_N = fes_ALL.TrialFunction()\n",
    "U0, U1, lamb0, lamb1 = U_N\n",
    "V_N = fes_ALL.TestFunction()\n",
    "V0, V1, mu0, mu1 = V_N"
   ]
  },
  {
   "cell_type": "code",
   "execution_count": 139,
   "id": "2a208f4e-3782-4570-a576-50fa39aa4fb6",
   "metadata": {},
   "outputs": [],
   "source": [
    "U_old = GridFunction(fesVD) ## Set 整点solution 既是解，也为后续外插做准备\n",
    "Sol = GridFunction(fes_ALL) \n",
    "U_collo = [] ## Set Collocation 值为后续外插做准备\n",
    "U_extr = [] ## Set extrapolation for constraint\n",
    "for ii in range(n_collo):\n",
    "    U_extr.append(GridFunction(fesVD)) \n",
    "    U_collo.append(GridFunction(fesVD))"
   ]
  },
  {
   "cell_type": "code",
   "execution_count": 140,
   "id": "ba7d398f-3617-4662-bfce-16dfd5ea3ed6",
   "metadata": {},
   "outputs": [],
   "source": [
    "A = CF((1/4,1/4-sqrt(3)/6,1/4+sqrt(3)/6,1/4),dims=(2,2)) ## 矩阵先排列完第一行再排列第二行\n",
    "A_np = np.array([[1/4,1/4-sqrt(3)/6],[1/4+sqrt(3)/6,1/4]])\n",
    "b = [1/2,1/2]"
   ]
  },
  {
   "cell_type": "code",
   "execution_count": 141,
   "id": "56f1bdd9-4951-4703-96a1-8dc1585ed05e",
   "metadata": {},
   "outputs": [],
   "source": [
    "tauval = 2**(-6)\n",
    "tau = Parameter(tauval)"
   ]
  },
  {
   "cell_type": "code",
   "execution_count": 142,
   "id": "636394b0-6199-4515-b479-a0382a1baafc",
   "metadata": {},
   "outputs": [],
   "source": [
    "Lhs = BilinearForm(fes_ALL)\n",
    "Lhs += InnerProduct(U0,V0)*dx + InnerProduct(U1,V1)*dx \\\n",
    "    + tau*(A[0,0]*InnerProduct(grad(U0),grad(V0))\n",
    "        +A[0,1]*InnerProduct(grad(U1),grad(V0))\n",
    "        +A[1,0]*InnerProduct(grad(U0),grad(V1))\n",
    "        +A[1,1]*InnerProduct(grad(U1),grad(V1))\n",
    "          )*dx\n",
    "# Lhs += InnerProduct(grad(U0),grad(V0))*dx + InnerProduct(grad(U1),grad(V1))*dx\n",
    "\n",
    "Rhs = LinearForm(fes_ALL)\n",
    "Rhs += - InnerProduct(grad(U_old),grad(V0))*dx_lumping - InnerProduct(grad(U_old),grad(V1))*dx_lumping"
   ]
  },
  {
   "cell_type": "markdown",
   "id": "aa9b4be9-c9f2-4107-8b82-f585afccce5d",
   "metadata": {},
   "source": [
    "### Lagrangian Multiplier\n",
    "\n",
    "* Solution 在Gauss点上和外插的u正交\n",
    "\n",
    "**(U_extr[0], U0*lamb0)_h = 0**\n",
    "\n",
    "$$\n",
    "(\\hat u, u \\mu)_h = 0\n",
    "$$\n",
    "\n",
    "外插函数是GridFunction： U_extr[0]\n",
    "* 外插多项式函数\n",
    "\n",
    "$$\n",
    "\\begin{aligned}\n",
    "& \\widehat{u}^{n 1}=2(3-\\sqrt{3}) u^n+(3 \\sqrt{3}-5) u^{n-1,1}-\\sqrt{3} u^{n-1,2} \\\\\n",
    "& \\widehat{u}^{n 2}=2(3+\\sqrt{3}) u^n+\\sqrt{3} u^{n-1,1}-(5+3 \\sqrt{3}) u^{n-1,2}\n",
    "\\end{aligned}\n",
    "$$"
   ]
  },
  {
   "cell_type": "code",
   "execution_count": 143,
   "id": "e0f36c0d-bd6b-4807-824c-36b4865e3224",
   "metadata": {},
   "outputs": [],
   "source": [
    "Lhs += InnerProduct(U_extr[0],V0)*lamb0*dx_lumping + InnerProduct(U_extr[1],V1)*lamb1*dx_lumping\n",
    "Lhs += -InnerProduct(U_extr[0],U0)*mu0*dx_lumping - InnerProduct(U_extr[1],U1)*mu1*dx_lumping\n",
    "Lhs += 1e-8*(mu0*lamb0+mu1*lamb1)*dx_lumping"
   ]
  },
  {
   "cell_type": "markdown",
   "id": "326b9a75-d616-4157-9f7d-c4fbd06b3c73",
   "metadata": {},
   "source": [
    "### 更新解\n",
    "\n",
    "$$\n",
    "\\begin{gathered}\n",
    "u^{n i}:=u^n+\\tau \\sum_{j=1}^q a_{i j} \\dot{u}^{n j}, \\quad i=1, \\ldots, q, \\\\\n",
    "u^{n+1}:=u^n+\\tau \\sum_{i=1}^q b_i \\dot{u}^{n i} .\n",
    "\\end{gathered}\n",
    "$$"
   ]
  },
  {
   "cell_type": "code",
   "execution_count": 144,
   "id": "f4a38538-1c36-433b-b369-631aaf474257",
   "metadata": {},
   "outputs": [],
   "source": [
    "uval = U_old.vec.FV().NumPy()\n",
    "Sollist = Sol.components\n",
    "## 更新collocation插值点\n",
    "for ii in range(n_collo):\n",
    "    U_collo[ii].vec.data = BaseVector(uval + tauval*(A_np[ii,0]*Sollist[0].vec.FV().NumPy() \n",
    "                                                     + A_np[ii,1]*Sollist[1].vec.FV().NumPy()))\n",
    "## 更新解\n",
    "U_old.vec.data = BaseVector(uval + tauval*(b[0]*Sollist[0].vec.FV().NumPy() \n",
    "                                           + b[1]*Sollist[1].vec.FV().NumPy()))"
   ]
  },
  {
   "cell_type": "markdown",
   "id": "28d00154-6fa3-461d-b404-40dda5d63504",
   "metadata": {},
   "source": [
    "### 更新外插函数"
   ]
  },
  {
   "cell_type": "code",
   "execution_count": 145,
   "id": "5bd62e16-82be-455f-86cb-f4eab891dac1",
   "metadata": {},
   "outputs": [],
   "source": [
    "## 利用更新的collocation以及右端点进行外插\n",
    "tmpval0 = U_collo[0].vec.FV().NumPy()\n",
    "tmpval1 = U_collo[1].vec.FV().NumPy()\n",
    "uval = U_old.vec.FV().NumPy()\n",
    "U_extr[0].vec.data = BaseVector(2*(3- np.sqrt(3))*uval + (3*np.sqrt(3) - 5)*tmpval0 - np.sqrt(3)*tmpval1)\n",
    "U_extr[1].vec.data = BaseVector(2*(3+ np.sqrt(3))*uval + np.sqrt(3)*tmpval0 - (5+3*np.sqrt(3))*tmpval1)"
   ]
  },
  {
   "cell_type": "markdown",
   "id": "94cb187a-c25e-4b12-b860-3202f31a2c2c",
   "metadata": {
    "jp-MarkdownHeadingCollapsed": true
   },
   "source": [
    "### Stop condition\n",
    "\n",
    "$$\n",
    "\\|\\dot u^n\\|_{L^2}< \\epsilon\n",
    "$$\n",
    "即solution中的L2范数小于 $\\epsilon$\n",
    "\n",
    "精确解：on $\\Omega = [-1/2,1/2]^2$ with\n",
    "$$\n",
    "\\pi_{\\mathrm{st}}^{-1}(x)=\\left(|x|^2+1\\right)^{-1}\\left[\\begin{array}{c}\n",
    "2 x \\\\\n",
    "1-|x|^2\n",
    "\\end{array}\\right] .\n",
    "$$\n",
    "\n",
    "Dirichlet边界条件通过精确解给出。初值可以通过一个在边界上为0的扰动给出。\n",
    "\n",
    "### 测量\n",
    "* 测量Dirichlet能量\n",
    "\n",
    "$$\n",
    "I = \\frac12 \\int_ \\Omega |\\nabla u|^2\n",
    "$$\n",
    "以及constraint violation和energy error. 精确的Dirichlet energy应该是3.009.\n",
    "$$\n",
    "\\begin{aligned}\n",
    "& \\delta_{\\text {uni }}\\left[u_h\\right]=\\left\\|\\mathcal{I}_h\\left(\\left|u_h\\right|^2-1\\right)\\right\\|_{L^1} \\\\\n",
    "& \\delta_{\\mathrm{ener}}\\left[u_h\\right]=\\left|I_{\\mathrm{hm}}\\left[u_h\\right]-I_{\\mathrm{hm}}[u]\\right|,\n",
    "\\end{aligned}\n",
    "$$\n"
   ]
  },
  {
   "cell_type": "markdown",
   "id": "266f925a-2855-4b9f-9df7-a176ddf33f7a",
   "metadata": {},
   "source": [
    "### Dirichlet能量的计算"
   ]
  },
  {
   "cell_type": "code",
   "execution_count": 146,
   "id": "93e4a4ee-e236-4cfa-bb8e-ba9a894eb08f",
   "metadata": {},
   "outputs": [],
   "source": [
    "xnorm = Norm(CF((x,y)))\n",
    "factor = (xnorm**2 + 1)**(-1)\n",
    "uexact = CF((factor*2*x,factor*2*y,factor*(1-xnorm**2)))\n",
    "perturb = uexact + CF(( sin(2*pi*x)*sin(2*pi*y), sin(2*pi*x)*sin(2*pi*y), sin(2*pi*x)*sin(2*pi*y) ))"
   ]
  },
  {
   "cell_type": "code",
   "execution_count": 147,
   "id": "de588c88-f8ee-44cc-a8b5-c38c4a9b3905",
   "metadata": {},
   "outputs": [
    {
     "name": "stdout",
     "output_type": "stream",
     "text": [
      "Energy of exact mapping is 3.0086272458984653\n"
     ]
    }
   ],
   "source": [
    "U_old.Interpolate(uexact)\n",
    "Energy = 1/2*Integrate(InnerProduct(grad(U_old),grad(U_old)), mymesh, element_wise=False)\n",
    "print('Energy of exact mapping is {}'.format(Energy))"
   ]
  },
  {
   "cell_type": "code",
   "execution_count": 148,
   "id": "3a779549-820a-4d9a-8188-c90f06dc901c",
   "metadata": {},
   "outputs": [
    {
     "name": "stdout",
     "output_type": "stream",
     "text": [
      "Energy of perturbed initial mapping is 32.56091820770367\n"
     ]
    }
   ],
   "source": [
    "U_old.Interpolate(perturb)\n",
    "Energy = 1/2*Integrate(InnerProduct(grad(U_old),grad(U_old)), mymesh, element_wise=False)\n",
    "print('Energy of perturbed initial mapping is {}'.format(Energy))"
   ]
  },
  {
   "cell_type": "code",
   "execution_count": 149,
   "id": "1d5f5754-2dd4-4af1-8285-d3932daca89c",
   "metadata": {},
   "outputs": [],
   "source": [
    "Draw(U_old,mymesh,'f')"
   ]
  },
  {
   "cell_type": "code",
   "execution_count": null,
   "id": "c22908b0-45f3-43fe-a18b-7359a18ff122",
   "metadata": {},
   "outputs": [],
   "source": []
  },
  {
   "cell_type": "markdown",
   "id": "94ea7a42-0a4c-4420-94e7-06c555d187b5",
   "metadata": {},
   "source": [
    "## 梯度下降"
   ]
  },
  {
   "cell_type": "code",
   "execution_count": null,
   "id": "087ed807-c154-47e1-960c-156739a71472",
   "metadata": {},
   "outputs": [],
   "source": [
    "GetEnergy = lambda expr: 1/2*Integrate(InnerProduct(grad(expr),grad(expr)), mymesh, element_wise=False)\n",
    "GetH1 = lambda expr: np.sqrt(Integrate( InnerProduct(grad(expr),grad(expr))+InnerProduct(expr,expr), mymesh, element_wise=False))\n",
    "GetL2 = lambda expr: np.sqrt(Integrate( InnerProduct(expr,expr), mymesh, element_wise=False))"
   ]
  },
  {
   "cell_type": "code",
   "execution_count": 119,
   "id": "3754ecc1-1d93-42c7-9978-8a330d3d6188",
   "metadata": {},
   "outputs": [],
   "source": [
    "u_Diri = GridFunction(fesVD)\n",
    "u_Diri.Interpolate(uexact)\n",
    "\n",
    "## 通过给出 U_old, U_extr 进行计算，得到满足边界条件的U0和U1（应该是Dirichlet的0边界条件）\n",
    "## 设定初始的 U_extr: \n",
    "U_extr[0].vec.data = U_old.vec\n",
    "U_extr[1].vec.data = U_old.vec"
   ]
  },
  {
   "cell_type": "code",
   "execution_count": 120,
   "id": "10ce2f3b-c041-4a77-bac7-f2f8a4ddd12d",
   "metadata": {},
   "outputs": [],
   "source": [
    "Eng_set = []\n",
    "eps = np.inf\n",
    "eps0 = 1e-5\n",
    "N_iter = 0\n",
    "while eps>eps0 and N_iter < 500:\n",
    "    ## 每个时间步更新U_old，U_extr（用来计算新的时间区间上的collocation点值，满足正交性条件），再用外插分别更新这两项\n",
    "    Lhs.Assemble()\n",
    "    Rhs.Assemble()\n",
    "    \n",
    "    Sol.vec.data = BaseVector(MyInv(Lhs.mat, Rhs.vec,FreeDofs=np.array(fes_ALL.FreeDofs())))\n",
    "    \n",
    "    ## 储存n-1时刻的mapping\n",
    "    uval = U_old.vec.FV().NumPy()\n",
    "    ## 计算collocation点上的时间导数\n",
    "    Sollist = Sol.components\n",
    "    ## 更新collocation插值点\n",
    "    for ii in range(n_collo):\n",
    "        U_collo[ii].vec.data = BaseVector(uval + tauval*(A_np[ii,0]*Sollist[0].vec.FV().NumPy() \n",
    "                                                         + A_np[ii,1]*Sollist[1].vec.FV().NumPy()))\n",
    "    ## 更新解\n",
    "    U_old.vec.data = BaseVector(uval + tauval*(b[0]*Sollist[0].vec.FV().NumPy() \n",
    "                                               + b[1]*Sollist[1].vec.FV().NumPy()))\n",
    "    \n",
    "    ## 利用更新的collocation以及右端点进行外插\n",
    "    tmpval0 = U_collo[0].vec.FV().NumPy()\n",
    "    tmpval1 = U_collo[1].vec.FV().NumPy()\n",
    "    uval = U_old.vec.FV().NumPy()\n",
    "    U_extr[0].vec.data = BaseVector(2*(3- np.sqrt(3))*uval + (3*np.sqrt(3) - 5)*tmpval0 - np.sqrt(3)*tmpval1)\n",
    "    U_extr[1].vec.data = BaseVector(2*(3+ np.sqrt(3))*uval + np.sqrt(3)*tmpval0 - (5+3*np.sqrt(3))*tmpval1)\n",
    "\n",
    "    eps = GetL2(Sollist[0])+GetL2(Sollist[1])\n",
    "    N_iter = N_iter + 1\n",
    "    Eng_set.append(GetEnergy(U_old))"
   ]
  },
  {
   "cell_type": "code",
   "execution_count": 122,
   "id": "7ed789e9-dd3e-470d-82d9-22210fa90dc2",
   "metadata": {},
   "outputs": [
    {
     "name": "stdout",
     "output_type": "stream",
     "text": [
      "500\n",
      "2.404929955808326\n"
     ]
    },
    {
     "data": {
      "image/png": "[encoded data removed]",
      "text/plain": [
       "<Figure size 640x480 with 1 Axes>"
      ]
     },
     "metadata": {},
     "output_type": "display_data"
    }
   ],
   "source": [
    "import matplotlib.pyplot as plt\n",
    "plt.plot(Eng_set)\n",
    "\n",
    "print(N_iter)\n",
    "print(Eng_set[-1])"
   ]
  },
  {
   "cell_type": "code",
   "execution_count": null,
   "id": "a0b1d9c4-ba29-4d23-a3ee-29f76a7128c4",
   "metadata": {},
   "outputs": [],
   "source": []
  },
  {
   "cell_type": "code",
   "execution_count": null,
   "id": "8e85dcc2-c1f5-41a1-b445-85322b1ca4ec",
   "metadata": {},
   "outputs": [],
   "source": []
  },
  {
   "cell_type": "code",
   "execution_count": null,
   "id": "c165e54f-f8b9-4750-93b4-6589dfa683c6",
   "metadata": {},
   "outputs": [],
   "source": []
  },
  {
   "cell_type": "code",
   "execution_count": 123,
   "id": "a7f0ab2d-b1ea-494e-91ee-274006caf41a",
   "metadata": {},
   "outputs": [],
   "source": [
    "Draw(Norm(U_old-uexact),mymesh,'test')"
   ]
  },
  {
   "cell_type": "code",
   "execution_count": null,
   "id": "1f34077c-a1f7-4579-9c1e-c893ae2e2986",
   "metadata": {},
   "outputs": [],
   "source": []
  },
  {
   "cell_type": "code",
   "execution_count": null,
   "id": "5579a87d-82c2-4208-a18d-fc674539b51f",
   "metadata": {},
   "outputs": [],
   "source": []
  },
  {
   "cell_type": "code",
   "execution_count": null,
   "id": "05689f67-63ac-46f7-8223-0afbdb606fc2",
   "metadata": {},
   "outputs": [],
   "source": []
  }
 ],
 "metadata": {
  "kernelspec": {
   "display_name": "Python 3 (ipykernel)",
   "language": "python",
   "name": "python3"
  },
  "language_info": {
   "codemirror_mode": {
    "name": "ipython",
    "version": 3
   },
   "file_extension": ".py",
   "mimetype": "text/x-python",
   "name": "python",
   "nbconvert_exporter": "python",
   "pygments_lexer": "ipython3",
   "version": "3.8.10"
  }
 },
 "nbformat": 4,
 "nbformat_minor": 5
}
