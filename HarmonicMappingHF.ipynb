{
 "cells": [
  {
   "cell_type": "code",
   "execution_count": 1,
   "id": "00083fea-38c6-4eab-a131-adc869629615",
   "metadata": {},
   "outputs": [],
   "source": [
    "from scipy.sparse import *\n",
    "import numpy as np\n",
    "\n",
    "def MyInv(Amat, Vec, FreeDofs:np.ndarray=None):\n",
    "    '''\n",
    "        # A is a ngsolve matrix，例如可以如下生成\n",
    "        A = la.SparseMatrixd.CreateFromCOO([0,1,2], [0,1,2], [1,2,3], 3, 3)\n",
    "        MyInv(A,BaseVector(np.array([1,2,3])),np.array([1,1,0],dtype=bool))\n",
    "        gfu.vec.data += BaseVector(MyInv(a.mat,res:BaseVector,np.array(X.FreeDofs())))\n",
    "        其中FreeDofs的dtype需要时bool才可以\n",
    "    '''\n",
    "    if FreeDofs is None:\n",
    "        FreeDofs = np.array(np.ones(Vec.FV().NumPy().shape),dtype=bool)\n",
    "    numFree = np.sum(FreeDofs)\n",
    "    A_data = list(Amat.COO())\n",
    "    \n",
    "    A_coo = coo_matrix((A_data[2].NumPy(),(np.array(A_data[0]),np.array(A_data[1]))),Amat.shape)\n",
    "    A_csr = A_coo.tocsr()\n",
    "    A_new_csr = A_csr[FreeDofs][:, FreeDofs]\n",
    "    b = Vec.FV().NumPy()[FreeDofs]\n",
    "    \n",
    "    # 使用spsolve求解Ax = b\n",
    "    x = linalg.spsolve(A_new_csr, b)\n",
    "    res = np.zeros(FreeDofs.shape)\n",
    "    res[FreeDofs] = x\n",
    "    return res"
   ]
  },
  {
   "cell_type": "code",
   "execution_count": 2,
   "id": "d309d9f1-f7f4-427e-b70c-3e39d4ee9f49",
   "metadata": {},
   "outputs": [],
   "source": [
    "from ngsolve import *"
   ]
  },
  {
   "cell_type": "code",
   "execution_count": 3,
   "id": "f9cd3299-a76b-4e72-a308-56e9991233c4",
   "metadata": {},
   "outputs": [],
   "source": [
    "def Pos_Transformer(Pos_GF,dim=None):\n",
    "    if dim is None:\n",
    "        dim = Pos_GF.dim\n",
    "    else:\n",
    "        assert(Pos_GF.dim == dim)\n",
    "    N = int(len(Pos_GF.vec)/dim)\n",
    "    coords = Pos_GF.vec.Reshape(N).NumPy().copy()\n",
    "    return coords.T"
   ]
  },
  {
   "cell_type": "markdown",
   "id": "31f9db2d-4df1-4b77-9fbe-b478cbf78021",
   "metadata": {},
   "source": [
    "Solving PDEs (vector valued) in tangential space\n",
    "$$\n",
    "\\left(\\dot{u}^{n i}, v_i\\right)_{\\star}+\\left(\\nabla u^n+\\tau \\sum_{i=1}^q a_{i j} \\nabla \\dot{u}^{n j}, \\nabla v_i\\right)=0\n",
    "$$"
   ]
  },
  {
   "cell_type": "markdown",
   "id": "a59e87e1-975f-4638-8520-a4baa0520cf1",
   "metadata": {},
   "source": [
    "方法：通过Lagrange乘子法求解无约束问题，用Lagrange乘子来设置正交性条件将本来的\n",
    "$$\n",
    "A u = b\n",
    "$$\n",
    "变成\n",
    "$$\n",
    "\\begin{pmatrix}\n",
    "A & R^T\\\\\n",
    "R & 0\n",
    "\\end{pmatrix}\n",
    "\\begin{pmatrix}\n",
    "u\\\\\n",
    "\\lambda\n",
    "\\end{pmatrix} = \n",
    "\\begin{pmatrix}\n",
    "b\\\\\n",
    "0\n",
    "\\end{pmatrix}\n",
    "$$\n",
    "\n",
    "用来描述具有切向限制的有限元空间。其中 $\\tilde u$ 属于标准有限元空间，例如平面上的三维有限元空间，具有所有的基函数，每个基函数的系数是一个三维的向量，表示对应vertice上的值。\n",
    "\n",
    "而R矩阵则对应于正交性条件，可以通过mass lumping将这个限制条件作用于每个节点上，这里 $\\hat u_h$ 已知，$\\tilde u$需要求解，$\\mu$是Lagrange乘子对应的对偶变量\n",
    "$$\n",
    "(\\hat u_h, \\tilde u \\mu)_h = 0\n",
    "$$"
   ]
  },
  {
   "cell_type": "code",
   "execution_count": 4,
   "id": "b58e9297-8c46-48e3-8164-8c5ce64ea247",
   "metadata": {},
   "outputs": [],
   "source": [
    "from netgen.meshing import Mesh, MeshPoint, Element1D, FaceDescriptor, Element0D, Element2D\n",
    "from netgen.csg import Pnt\n",
    "import numpy as np\n",
    "from netgen.geom2d import *"
   ]
  },
  {
   "cell_type": "code",
   "execution_count": 5,
   "id": "c0e10038-86fa-4738-9a07-a5e30ff344f3",
   "metadata": {},
   "outputs": [
    {
     "name": "stdout",
     "output_type": "stream",
     "text": [
      "optfile ./ng.opt does not exist - using default values\n",
      "togl-version : 2\n",
      "OCC module loaded\n",
      "loading ngsolve library\n",
      "NGSolve-6.2.2105\n",
      "Using Lapack\n",
      "Including sparse direct solver Pardiso\n",
      "Running parallel using 8 thread(s)\n"
     ]
    }
   ],
   "source": [
    "import netgen.gui"
   ]
  },
  {
   "cell_type": "markdown",
   "id": "e0eeb4ce-184d-48ce-bdc6-489cd8d19ecb",
   "metadata": {},
   "source": [
    "### 生成一个正方形网格"
   ]
  },
  {
   "cell_type": "code",
   "execution_count": 6,
   "id": "e8e2ea43-e173-44dd-bf7c-ed4cfef0cf64",
   "metadata": {},
   "outputs": [
    {
     "name": "stdout",
     "output_type": "stream",
     "text": [
      " Generate Mesh from spline geometry\n"
     ]
    }
   ],
   "source": [
    "L = 1/2\n",
    "h = 0.1\n",
    "periodic = SplineGeometry()\n",
    "pnts = [ (-L,-L), (L,-L), (L,L), (-L,L) ]\n",
    "pnums = [periodic.AppendPoint(*p) for p in pnts]\n",
    "\n",
    "ldown = periodic.Append ( [\"line\", pnums[0], pnums[1]],bc=\"outer\")\n",
    "lright = periodic.Append ( [\"line\", pnums[1], pnums[2]], bc=\"outer\")\n",
    "periodic.Append ( [\"line\", pnums[3], pnums[2]], leftdomain=0, rightdomain=1, bc=\"outer\")\n",
    "periodic.Append ( [\"line\", pnums[0], pnums[3]], leftdomain=0, rightdomain=1, bc=\"outer\")\n",
    "ngmesh = periodic.GenerateMesh(maxh=h)"
   ]
  },
  {
   "cell_type": "code",
   "execution_count": 7,
   "id": "5ab6463d-c8d9-4805-969f-9783f3157ad1",
   "metadata": {},
   "outputs": [],
   "source": [
    "from ngsolve import *\n",
    "mymesh = Mesh(ngmesh)"
   ]
  },
  {
   "cell_type": "markdown",
   "id": "65b3f95e-461a-4b50-902d-d00d5bb2e5a7",
   "metadata": {},
   "source": [
    "### 构造有限元空间-向量值空间以及标量值空间"
   ]
  },
  {
   "cell_type": "code",
   "execution_count": 8,
   "id": "c79e4616-655b-414b-9cbd-5344d91a2b76",
   "metadata": {},
   "outputs": [],
   "source": [
    "fesD = H1(mymesh, order = 1, dirichlet=mymesh.Boundaries(\".*\"))\n",
    "## mapping的解空间，映射到3维\n",
    "fesVD = fesD**3\n",
    "fes = H1(mymesh, order = 1, dirichlet=mymesh.Boundaries(\".*\"))"
   ]
  },
  {
   "cell_type": "markdown",
   "id": "65946fd4-a31b-416e-ba05-6db29245d815",
   "metadata": {},
   "source": [
    "### 构造多个内点处dt的复合有限元空间\n",
    "\n",
    "* example: Gauss collocation, q = 2\n",
    "\n",
    "$$\n",
    "\\begin{array}{cc|c}\n",
    "\\frac{1}{4} & \\frac{1}{4}-\\frac{\\sqrt{3}}{6} & \\frac{1}{2}-\\frac{\\sqrt{3}}{6} \\\\\n",
    "\\frac{1}{4}+\\frac{\\sqrt{3}}{6} & \\frac{1}{4} & \\frac{1}{2}+\\frac{\\sqrt{3}}{6} \\\\\n",
    "\\hline \\frac{1}{2} & \\frac{1}{2} &\n",
    "\\end{array}\n",
    "$$\n",
    "其中ci代表的是Collocation点\n",
    "\n",
    "$$\n",
    "\\begin{aligned}\n",
    "& \\sum_{i=1}^q b_i c_i^{\\nu-1}=\\frac{1}{\\nu}, \\quad \\nu=1, \\ldots, q \\\\\n",
    "& \\sum_{j=1}^q a_{i j} c_j^{\\nu-1}=\\frac{c_i^\\nu}{\\nu}, \\quad \\nu=1, \\ldots, q, i=1, \\ldots, q .\n",
    "\\end{aligned}\n",
    "$$\n",
    "\n",
    "Solving $\\dot{u}^{n i}$, i = 1,2\n",
    "$$\n",
    "\\left(\\dot{u}^{n i}, v_i\\right)+\\left(\\tau \\sum_{i=1}^q a_{i j} \\nabla \\dot{u}^{n j}, \\nabla v_i\\right)=\n",
    "-\\left(\\nabla u^n, \\nabla v_i\\right)\n",
    "$$"
   ]
  },
  {
   "cell_type": "markdown",
   "id": "16e3d836-bd78-4056-baf7-c14fe1416fb7",
   "metadata": {},
   "source": [
    "### 有限元函数\n",
    "* 每个内点对应一个有限元函数-d维向量值，因此这部分有d*n\\_collo个有限元函数\n",
    "* 讲这些测试函数分别标记为 u1, u2, 每个是一个3d的向量\n",
    "* Lagrange乘子对应一个有限元函数（没有Dirichlet边界条件）"
   ]
  },
  {
   "cell_type": "code",
   "execution_count": 58,
   "id": "12682f62-8def-423f-bc96-e5983f2afa9a",
   "metadata": {},
   "outputs": [
    {
     "data": {
      "text/plain": [
       "<matplotlib.legend.Legend at 0x7fa708c59f70>"
      ]
     },
     "execution_count": 58,
     "metadata": {},
     "output_type": "execute_result"
    },
    {
     "data": {
      "image/png": "[encoded data removed]",
      "text/plain": [
       "<Figure size 640x480 with 1 Axes>"
      ]
     },
     "metadata": {},
     "output_type": "display_data"
    }
   ],
   "source": [
    "numer = np.array([3.1197638279687134,3.0482833111589946,3.0168390278909496,\n",
    "                  3.010236100812738, 3.0090777271865665, 3.0088727132054314,\n",
    "                 3.008838794466002])\n",
    "exact = 3.0088318978905484\n",
    "vari = np.array([0.02657563716034227,0.010258188436496394,0.0026470318769056637,\n",
    "                 0.0005542593686531275,9.863510096279044e-05,1.6900847376931428e-05,\n",
    "                2.883130001328924e-06])\n",
    "tau = np.array([2**nn for nn in [-6,-7,-8,-9,-10,-11,-12]])\n",
    "err = numer - exact\n",
    "import matplotlib.pyplot as plt\n",
    "plt.loglog(tau,1e3*tau**2,'-')\n",
    "plt.loglog(tau,err,'-^')\n",
    "plt.legend(['2nd order','energy error'])"
   ]
  },
  {
   "cell_type": "code",
   "execution_count": 59,
   "id": "092918ad-dc6f-4c9b-8106-d8654763c3ff",
   "metadata": {},
   "outputs": [
    {
     "data": {
      "text/plain": [
       "<matplotlib.legend.Legend at 0x7fa719f18370>"
      ]
     },
     "execution_count": 59,
     "metadata": {},
     "output_type": "execute_result"
    },
    {
     "data": {
      "image/png": "[encoded data removed]",
      "text/plain": [
       "<Figure size 640x480 with 1 Axes>"
      ]
     },
     "metadata": {},
     "output_type": "display_data"
    }
   ],
   "source": [
    "plt.loglog(tau,3e2*tau**2,'-')\n",
    "plt.loglog(tau,vari,'-^')\n",
    "plt.legend(['2nd order','violation error'])"
   ]
  },
  {
   "cell_type": "markdown",
   "id": "4a98c6f0-8f81-41ec-82ef-3aec9fc05233",
   "metadata": {
    "jp-MarkdownHeadingCollapsed": true
   },
   "source": [
    "### 有限元空间解释\n",
    "\n",
    "* fes_ALL = fesVD* fesVD* fes * fes\n",
    "\n",
    "中的测试函数U_N，分开写各个collocation point处的有限元函数。这样可以让 测试函数的每个分量具备向量形式\n",
    "尽可能不用 power 形式来写有限元空间。\n",
    "\n",
    "Lagrange multiplier需要是多个，因为这对应于在每个collocation 点上的正交性restriction"
   ]
  },
  {
   "cell_type": "code",
   "execution_count": 9,
   "id": "e8b58a4a-4376-4349-8573-697806981252",
   "metadata": {},
   "outputs": [],
   "source": [
    "ir = IntegrationRule(points = [(0,0), (1,0), (0,1)], weights = [1/6, 1/6, 1/6])\n",
    "dx_lumping = dx(intrules = { TRIG : ir })"
   ]
  },
  {
   "cell_type": "code",
   "execution_count": 10,
   "id": "29a02413-c051-4159-af47-caadf792044f",
   "metadata": {},
   "outputs": [],
   "source": [
    "n_collo = 2\n",
    "d = 3\n",
    "fes_ALL = fesVD*fesVD*fes*fes\n",
    "U_N = fes_ALL.TrialFunction()\n",
    "U0, U1, lamb0, lamb1 = U_N\n",
    "V_N = fes_ALL.TestFunction()\n",
    "V0, V1, mu0, mu1 = V_N"
   ]
  },
  {
   "cell_type": "code",
   "execution_count": 11,
   "id": "2a208f4e-3782-4570-a576-50fa39aa4fb6",
   "metadata": {},
   "outputs": [],
   "source": [
    "U_old = GridFunction(fesVD) ## Set 整点solution 既是解，也为后续外插做准备\n",
    "Sol = GridFunction(fes_ALL) \n",
    "U_collo = [] ## Set Collocation 值为后续外插做准备\n",
    "U_extr = [] ## Set extrapolation for constraint\n",
    "for ii in range(n_collo):\n",
    "    U_extr.append(GridFunction(fesVD)) \n",
    "    U_collo.append(GridFunction(fesVD))"
   ]
  },
  {
   "cell_type": "code",
   "execution_count": 12,
   "id": "ba7d398f-3617-4662-bfce-16dfd5ea3ed6",
   "metadata": {},
   "outputs": [],
   "source": [
    "A = CF((1/4,1/4-sqrt(3)/6,1/4+sqrt(3)/6,1/4),dims=(2,2)) ## 矩阵先排列完第一行再排列第二行\n",
    "A_np = np.array([[1/4,1/4-sqrt(3)/6],[1/4+sqrt(3)/6,1/4]])\n",
    "b = [1/2,1/2]"
   ]
  },
  {
   "cell_type": "code",
   "execution_count": 13,
   "id": "56f1bdd9-4951-4703-96a1-8dc1585ed05e",
   "metadata": {},
   "outputs": [],
   "source": [
    "tauval = 2**(-6)\n",
    "tau = Parameter(tauval)"
   ]
  },
  {
   "cell_type": "code",
   "execution_count": 14,
   "id": "636394b0-6199-4515-b479-a0382a1baafc",
   "metadata": {},
   "outputs": [],
   "source": [
    "Lhs = BilinearForm(fes_ALL)\n",
    "Lhs += InnerProduct(U0,V0)*dx + InnerProduct(U1,V1)*dx \\\n",
    "    + tau*(A[0,0]*InnerProduct(grad(U0),grad(V0))\n",
    "        +A[0,1]*InnerProduct(grad(U1),grad(V0))\n",
    "        +A[1,0]*InnerProduct(grad(U0),grad(V1))\n",
    "        +A[1,1]*InnerProduct(grad(U1),grad(V1))\n",
    "          )*dx\n",
    "# Lhs += InnerProduct(grad(U0),grad(V0))*dx + InnerProduct(grad(U1),grad(V1))*dx\n",
    "\n",
    "Rhs = LinearForm(fes_ALL)\n",
    "Rhs += - InnerProduct(grad(U_old),grad(V0))*dx_lumping - InnerProduct(grad(U_old),grad(V1))*dx"
   ]
  },
  {
   "cell_type": "markdown",
   "id": "aa9b4be9-c9f2-4107-8b82-f585afccce5d",
   "metadata": {},
   "source": [
    "### Lagrangian Multiplier\n",
    "\n",
    "* Solution 在Gauss点上和外插的u正交\n",
    "\n",
    "**(U_extr[0], U0*lamb0)_h = 0**\n",
    "\n",
    "$$\n",
    "(\\hat u, u \\mu)_h = 0\n",
    "$$\n",
    "\n",
    "外插函数是GridFunction： U_extr[0]\n",
    "* 外插多项式函数\n",
    "\n",
    "$$\n",
    "\\begin{aligned}\n",
    "& \\widehat{u}^{n 1}=2(3-\\sqrt{3}) u^n+(3 \\sqrt{3}-5) u^{n-1,1}-\\sqrt{3} u^{n-1,2} \\\\\n",
    "& \\widehat{u}^{n 2}=2(3+\\sqrt{3}) u^n+\\sqrt{3} u^{n-1,1}-(5+3 \\sqrt{3}) u^{n-1,2}\n",
    "\\end{aligned}\n",
    "$$"
   ]
  },
  {
   "cell_type": "code",
   "execution_count": 15,
   "id": "e0f36c0d-bd6b-4807-824c-36b4865e3224",
   "metadata": {},
   "outputs": [],
   "source": [
    "Lhs += InnerProduct(U_extr[0],V0)*lamb0*dx_lumping + InnerProduct(U_extr[1],V1)*lamb1*dx_lumping\n",
    "Lhs += -InnerProduct(U_extr[0],U0)*mu0*dx_lumping - InnerProduct(U_extr[1],U1)*mu1*dx_lumping"
   ]
  },
  {
   "cell_type": "markdown",
   "id": "326b9a75-d616-4157-9f7d-c4fbd06b3c73",
   "metadata": {},
   "source": [
    "### 更新解\n",
    "\n",
    "$$\n",
    "\\begin{gathered}\n",
    "u^{n i}:=u^n+\\tau \\sum_{j=1}^q a_{i j} \\dot{u}^{n j}, \\quad i=1, \\ldots, q, \\\\\n",
    "u^{n+1}:=u^n+\\tau \\sum_{i=1}^q b_i \\dot{u}^{n i} .\n",
    "\\end{gathered}\n",
    "$$"
   ]
  },
  {
   "cell_type": "code",
   "execution_count": 16,
   "id": "f4a38538-1c36-433b-b369-631aaf474257",
   "metadata": {},
   "outputs": [],
   "source": [
    "uval = U_old.vec.FV().NumPy()\n",
    "Sollist = Sol.components\n",
    "## 更新collocation插值点\n",
    "for ii in range(n_collo):\n",
    "    U_collo[ii].vec.data = BaseVector(uval + tauval*(A_np[ii,0]*Sollist[0].vec.FV().NumPy() \n",
    "                                                     + A_np[ii,1]*Sollist[1].vec.FV().NumPy()))\n",
    "## 更新解\n",
    "U_old.vec.data = BaseVector(uval + tauval*(b[0]*Sollist[0].vec.FV().NumPy() \n",
    "                                           + b[1]*Sollist[1].vec.FV().NumPy()))"
   ]
  },
  {
   "cell_type": "markdown",
   "id": "28d00154-6fa3-461d-b404-40dda5d63504",
   "metadata": {},
   "source": [
    "### 更新外插函数"
   ]
  },
  {
   "cell_type": "code",
   "execution_count": 17,
   "id": "5bd62e16-82be-455f-86cb-f4eab891dac1",
   "metadata": {},
   "outputs": [],
   "source": [
    "## 利用更新的collocation以及右端点进行外插\n",
    "tmpval0 = U_collo[0].vec.FV().NumPy()\n",
    "tmpval1 = U_collo[1].vec.FV().NumPy()\n",
    "uval = U_old.vec.FV().NumPy()\n",
    "U_extr[0].vec.data = BaseVector(2*(3- np.sqrt(3))*uval + (3*np.sqrt(3) - 5)*tmpval0 - np.sqrt(3)*tmpval1)\n",
    "U_extr[1].vec.data = BaseVector(2*(3+ np.sqrt(3))*uval + np.sqrt(3)*tmpval0 - (5+3*np.sqrt(3))*tmpval1)"
   ]
  },
  {
   "cell_type": "markdown",
   "id": "94cb187a-c25e-4b12-b860-3202f31a2c2c",
   "metadata": {
    "jp-MarkdownHeadingCollapsed": true
   },
   "source": [
    "### Stop condition\n",
    "\n",
    "$$\n",
    "\\|\\dot u^n\\|_{L^2}< \\epsilon\n",
    "$$\n",
    "即solution中的L2范数小于 $\\epsilon$\n",
    "\n",
    "精确解：on $\\Omega = [-1/2,1/2]^2$ with\n",
    "$$\n",
    "\\pi_{\\mathrm{st}}^{-1}(x)=\\left(|x|^2+1\\right)^{-1}\\left[\\begin{array}{c}\n",
    "2 x \\\\\n",
    "1-|x|^2\n",
    "\\end{array}\\right] .\n",
    "$$\n",
    "\n",
    "Dirichlet边界条件通过精确解给出。初值可以通过一个在边界上为0的扰动给出。\n",
    "\n",
    "### 测量\n",
    "* 测量Dirichlet能量\n",
    "\n",
    "$$\n",
    "I = \\frac12 \\int_ \\Omega |\\nabla u|^2\n",
    "$$\n",
    "以及constraint violation和energy error. 精确的Dirichlet energy应该是3.009.\n",
    "$$\n",
    "\\begin{aligned}\n",
    "& \\delta_{\\text {uni }}\\left[u_h\\right]=\\left\\|\\mathcal{I}_h\\left(\\left|u_h\\right|^2-1\\right)\\right\\|_{L^1} \\\\\n",
    "& \\delta_{\\mathrm{ener}}\\left[u_h\\right]=\\left|I_{\\mathrm{hm}}\\left[u_h\\right]-I_{\\mathrm{hm}}[u]\\right|,\n",
    "\\end{aligned}\n",
    "$$\n"
   ]
  },
  {
   "cell_type": "markdown",
   "id": "266f925a-2855-4b9f-9df7-a176ddf33f7a",
   "metadata": {},
   "source": [
    "### Dirichlet能量的计算"
   ]
  },
  {
   "cell_type": "code",
   "execution_count": 18,
   "id": "93e4a4ee-e236-4cfa-bb8e-ba9a894eb08f",
   "metadata": {},
   "outputs": [],
   "source": [
    "xnorm = Norm(CF((x,y)))\n",
    "factor = (xnorm**2 + 1)**(-1)\n",
    "uexact = CF((factor*2*x,factor*2*y,factor*(1-xnorm**2)))\n",
    "perturb = uexact + CF(( sin(2*pi*x)*sin(2*pi*y), 0, 0 ))"
   ]
  },
  {
   "cell_type": "code",
   "execution_count": 19,
   "id": "de588c88-f8ee-44cc-a8b5-c38c4a9b3905",
   "metadata": {},
   "outputs": [
    {
     "name": "stdout",
     "output_type": "stream",
     "text": [
      "Energy of exact mapping is 2.99607492600693\n"
     ]
    }
   ],
   "source": [
    "U_old.Interpolate(uexact)\n",
    "Energy = 1/2*Integrate(InnerProduct(grad(U_old),grad(U_old)), mymesh, element_wise=False)\n",
    "print('Energy of exact mapping is {}'.format(Energy))"
   ]
  },
  {
   "cell_type": "code",
   "execution_count": 20,
   "id": "3a779549-820a-4d9a-8188-c90f06dc901c",
   "metadata": {},
   "outputs": [
    {
     "name": "stdout",
     "output_type": "stream",
     "text": [
      "Energy of perturbed initial mapping is 12.387060463257106\n"
     ]
    }
   ],
   "source": [
    "U_old.Interpolate(perturb)\n",
    "Energy = 1/2*Integrate(InnerProduct(grad(U_old),grad(U_old)), mymesh, element_wise=False)\n",
    "print('Energy of perturbed initial mapping is {}'.format(Energy))"
   ]
  },
  {
   "cell_type": "markdown",
   "id": "029c1473-c67b-4cd0-a8ee-4ab5a2e78149",
   "metadata": {},
   "source": [
    "### 扰动的初值需要压缩以满足模长为1\n",
    "* 查看U_old的形式, U_old是向量函数"
   ]
  },
  {
   "cell_type": "code",
   "execution_count": 21,
   "id": "1d5f5754-2dd4-4af1-8285-d3932daca89c",
   "metadata": {},
   "outputs": [],
   "source": [
    "Draw(U_old,mymesh,'f')"
   ]
  },
  {
   "cell_type": "code",
   "execution_count": 22,
   "id": "c22908b0-45f3-43fe-a18b-7359a18ff122",
   "metadata": {},
   "outputs": [],
   "source": [
    "res = Pos_Transformer(U_old)\n",
    "res2 = res/np.linalg.norm(res,axis =1)[:,None]\n",
    "U_old.vec.data = BaseVector(res2.flatten('F'))"
   ]
  },
  {
   "cell_type": "markdown",
   "id": "94ea7a42-0a4c-4420-94e7-06c555d187b5",
   "metadata": {},
   "source": [
    "## 梯度下降"
   ]
  },
  {
   "cell_type": "code",
   "execution_count": 23,
   "id": "087ed807-c154-47e1-960c-156739a71472",
   "metadata": {},
   "outputs": [],
   "source": [
    "GetEnergy = lambda expr: 1/2*Integrate(InnerProduct(grad(expr),grad(expr)), mymesh, element_wise=False)\n",
    "GetH1 = lambda expr: np.sqrt(Integrate( InnerProduct(grad(expr),grad(expr))+InnerProduct(expr,expr), mymesh, element_wise=False))\n",
    "GetL2 = lambda expr: np.sqrt(Integrate( InnerProduct(expr,expr), mymesh, element_wise=False))"
   ]
  },
  {
   "cell_type": "markdown",
   "id": "567e8dd7-79ed-4fbe-9f0d-b0817eb200a4",
   "metadata": {},
   "source": [
    "### 设定初值时间步中的Collocation点的近似\n",
    "\n",
    "\n",
    "$$\n",
    "\\begin{gathered}\n",
    "u^{n i}:=u^n+\\tau \\sum_{j=1}^q a_{i j} \\dot{u}^{n j}, \\quad i=1, \\ldots, q,\n",
    "\\end{gathered}\n",
    "$$\n",
    "\n",
    "Euler method: Solving $\\dot{u}^{n i}$, i = 1\n",
    "$$\n",
    "\\left(\\dot{u}^{n i}, v_i\\right)+\\left(\\tau \\nabla \\dot{u}^{n j}, \\nabla v_i\\right)=\n",
    "-\\left(\\nabla u^n, \\nabla v_i\\right)\n",
    "$$\n",
    "Under constraint 和 $u^0$ 正交"
   ]
  },
  {
   "cell_type": "code",
   "execution_count": null,
   "id": "bca55577-a9ad-45b5-893c-5f9fd0b53d3b",
   "metadata": {},
   "outputs": [],
   "source": [
    "c0 = (3-np.sqrt(3))/6\n",
    "c1 = (3+np.sqrt(3))/6\n",
    "tau_mid = Parameter(c0*tauval)\n",
    "fes_Euler = fesVD*fes\n",
    "U_Euler = fes_Euler.TrialFunction()\n",
    "UEuler0, lambEuler0 = U_Euler\n",
    "V_Euler = fes_Euler.TestFunction()\n",
    "VEuler0, muEuler0 = V_Euler\n",
    "Sol_E = GridFunction(fes_Euler)\n",
    "\n",
    "Lhs_E = BilinearForm(fes_Euler)\n",
    "Lhs_E += InnerProduct(UEuler0,VEuler0)*dx + tau_mid*(InnerProduct(grad(UEuler0),grad(VEuler0)))*dx\n",
    "\n",
    "Rhs_E = LinearForm(fes_Euler)\n",
    "Rhs_E += - InnerProduct(grad(U_old),grad(VEuler0))*dx\n",
    "Lhs_E += InnerProduct(U_old,VEuler0)*lambEuler0*dx_lumping\n",
    "Lhs_E += -InnerProduct(U_old,UEuler0)*muEuler0*dx_lumping\n",
    "Lhs_E.Assemble()\n",
    "Rhs_E.Assemble()\n",
    "\n",
    "Sol_E.vec.data = BaseVector(MyInv(Lhs_E.mat, Rhs_E.vec,FreeDofs=np.array(fes_Euler.FreeDofs())))\n",
    "U_extr[0].vec.data = BaseVector(U_old.vec.FV().NumPy() + c0*tauval*Sol_E.components[0].vec.FV().NumPy())\n",
    "\n",
    "tau_mid.Set(c1*tauval)\n",
    "Lhs_E.Assemble()\n",
    "Sol_E.vec.data = BaseVector(MyInv(Lhs_E.mat, Rhs_E.vec,FreeDofs=np.array(fes_Euler.FreeDofs())))\n",
    "U_extr[1].vec.data = BaseVector(U_old.vec.FV().NumPy() + c1*tauval*Sol_E.components[0].vec.FV().NumPy())"
   ]
  },
  {
   "cell_type": "code",
   "execution_count": 32,
   "id": "655ec2de-0906-49bd-93f8-2c125a56caff",
   "metadata": {},
   "outputs": [
    {
     "name": "stdout",
     "output_type": "stream",
     "text": [
      "5.2430265491429605e-18\n"
     ]
    }
   ],
   "source": [
    "Variation = GridFunction(fes)\n",
    "Variation.Interpolate(InnerProduct(U_old,U_old)-1)\n",
    "delta_viration = Integrate(Variation,mymesh,element_wise=False)\n",
    "print(delta_viration)"
   ]
  },
  {
   "cell_type": "code",
   "execution_count": 33,
   "id": "10ce2f3b-c041-4a77-bac7-f2f8a4ddd12d",
   "metadata": {},
   "outputs": [],
   "source": [
    "Eng_set = []\n",
    "eps_set = []\n",
    "eps = np.inf\n",
    "eps0 = 1e-5\n",
    "N_iter = 0\n",
    "while eps>eps0 and N_iter < 500:\n",
    "    ## 每个时间步更新U_old，U_extr（用来计算新的时间区间上的collocation点值，满足正交性条件），再用外插分别更新这两项\n",
    "    Lhs.Assemble()\n",
    "    Rhs.Assemble()\n",
    "    \n",
    "    Sol.vec.data = BaseVector(MyInv(Lhs.mat, Rhs.vec,FreeDofs=np.array(fes_ALL.FreeDofs())))\n",
    "    \n",
    "    ## 储存n-1时刻的mapping\n",
    "    uval = U_old.vec.FV().NumPy()\n",
    "    ## 计算collocation点上的时间导数\n",
    "    Sollist = Sol.components\n",
    "    ## 更新collocation插值点\n",
    "    for ii in range(n_collo):\n",
    "        U_collo[ii].vec.data = BaseVector(uval + tauval*(A_np[ii,0]*Sollist[0].vec.FV().NumPy() \n",
    "                                                         + A_np[ii,1]*Sollist[1].vec.FV().NumPy()))\n",
    "    ## 更新解\n",
    "    U_old.vec.data = BaseVector(uval + tauval*(b[0]*Sollist[0].vec.FV().NumPy() \n",
    "                                               + b[1]*Sollist[1].vec.FV().NumPy()))\n",
    "    \n",
    "    ## 利用更新的collocation以及右端点进行外插\n",
    "    tmpval0 = U_collo[0].vec.FV().NumPy()\n",
    "    tmpval1 = U_collo[1].vec.FV().NumPy()\n",
    "    uval = U_old.vec.FV().NumPy()\n",
    "    U_extr[0].vec.data = BaseVector(2*(3- np.sqrt(3))*uval + (3*np.sqrt(3) - 5)*tmpval0 - np.sqrt(3)*tmpval1)\n",
    "    U_extr[1].vec.data = BaseVector(2*(3+ np.sqrt(3))*uval + np.sqrt(3)*tmpval0 - (5+3*np.sqrt(3))*tmpval1)\n",
    "\n",
    "    eps = GetL2(Sollist[0])+GetL2(Sollist[1])\n",
    "    N_iter = N_iter + 1\n",
    "    Eng_set.append(GetEnergy(U_old))\n",
    "    eps_set.append(eps)"
   ]
  },
  {
   "cell_type": "code",
   "execution_count": 34,
   "id": "7ed789e9-dd3e-470d-82d9-22210fa90dc2",
   "metadata": {},
   "outputs": [
    {
     "name": "stdout",
     "output_type": "stream",
     "text": [
      "115\n",
      "3.0900789293866344\n"
     ]
    },
    {
     "data": {
      "image/png": "[encoded data removed]",
      "text/plain": [
       "<Figure size 640x480 with 1 Axes>"
      ]
     },
     "metadata": {},
     "output_type": "display_data"
    }
   ],
   "source": [
    "import matplotlib.pyplot as plt\n",
    "plt.plot(Eng_set)\n",
    "\n",
    "print(N_iter)\n",
    "print(Eng_set[-1])"
   ]
  },
  {
   "cell_type": "code",
   "execution_count": 88,
   "id": "a0b1d9c4-ba29-4d23-a3ee-29f76a7128c4",
   "metadata": {},
   "outputs": [
    {
     "name": "stdout",
     "output_type": "stream",
     "text": [
      "0.0007970698400853549\n"
     ]
    },
    {
     "data": {
      "image/png": "[encoded data removed]",
      "text/plain": [
       "<Figure size 640x480 with 1 Axes>"
      ]
     },
     "metadata": {},
     "output_type": "display_data"
    }
   ],
   "source": [
    "plt.plot(eps_set)\n",
    "print(eps_set[-1])"
   ]
  },
  {
   "cell_type": "code",
   "execution_count": null,
   "id": "be6a1353-32be-45aa-86e6-ec1412bc8ba4",
   "metadata": {},
   "outputs": [],
   "source": []
  },
  {
   "cell_type": "code",
   "execution_count": null,
   "id": "8e85dcc2-c1f5-41a1-b445-85322b1ca4ec",
   "metadata": {},
   "outputs": [],
   "source": []
  },
  {
   "cell_type": "code",
   "execution_count": 108,
   "id": "7752bd01-6667-4d98-a668-ba73cf7a687a",
   "metadata": {},
   "outputs": [],
   "source": [
    "Draw(perturb,mymesh,'pert')"
   ]
  },
  {
   "cell_type": "code",
   "execution_count": 111,
   "id": "c165e54f-f8b9-4750-93b4-6589dfa683c6",
   "metadata": {},
   "outputs": [
    {
     "name": "stdout",
     "output_type": "stream",
     "text": [
      "0.2446402970149769\n"
     ]
    }
   ],
   "source": [
    "Variation.Interpolate(InnerProduct(U_old,U_old)-1)\n",
    "delta_viration = Integrate(sqrt(Variation**2),mymesh,element_wise=False)\n",
    "print(delta_viration)\n",
    "Draw(Variation,mymesh,'vari')"
   ]
  },
  {
   "cell_type": "code",
   "execution_count": 109,
   "id": "a7f0ab2d-b1ea-494e-91ee-274006caf41a",
   "metadata": {},
   "outputs": [],
   "source": [
    "Draw(Norm(U_old-uexact),mymesh,'test')"
   ]
  },
  {
   "cell_type": "code",
   "execution_count": null,
   "id": "1f34077c-a1f7-4579-9c1e-c893ae2e2986",
   "metadata": {},
   "outputs": [],
   "source": []
  },
  {
   "cell_type": "code",
   "execution_count": null,
   "id": "5579a87d-82c2-4208-a18d-fc674539b51f",
   "metadata": {},
   "outputs": [],
   "source": []
  },
  {
   "cell_type": "code",
   "execution_count": null,
   "id": "05689f67-63ac-46f7-8223-0afbdb606fc2",
   "metadata": {},
   "outputs": [],
   "source": []
  }
 ],
 "metadata": {
  "kernelspec": {
   "display_name": "Python 3 (ipykernel)",
   "language": "python",
   "name": "python3"
  },
  "language_info": {
   "codemirror_mode": {
    "name": "ipython",
    "version": 3
   },
   "file_extension": ".py",
   "mimetype": "text/x-python",
   "name": "python",
   "nbconvert_exporter": "python",
   "pygments_lexer": "ipython3",
   "version": "3.8.10"
  }
 },
 "nbformat": 4,
 "nbformat_minor": 5
}
